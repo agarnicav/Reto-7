{
 "cells": [
  {
   "attachments": {},
   "cell_type": "markdown",
   "metadata": {},
   "source": [
    "1. Imprimir un listado con los números del 1 al 100 cada uno con su respectivo cuadrado."
   ]
  },
  {
   "cell_type": "code",
   "execution_count": null,
   "metadata": {},
   "outputs": [],
   "source": [
    "i = 1\n",
    "while i <= 100:\n",
    "    print(i, i**2)\n",
    "    i += 1"
   ]
  },
  {
   "attachments": {},
   "cell_type": "markdown",
   "metadata": {},
   "source": [
    "2. Imprimir un listado con los números impares desde 1 hasta 999 y seguidamente otro listado con los números pares desde 2 hasta 1000."
   ]
  },
  {
   "cell_type": "code",
   "execution_count": null,
   "metadata": {},
   "outputs": [],
   "source": [
    "i = 1 \n",
    "j = 2 \n",
    "while i <= 999 and j<=1000: \n",
    "  print(i, j, sep = \", \")\n",
    "  i += 2\n",
    "  j += 2 \n",
    "\n",
    "print(\"the end.\") "
   ]
  },
  {
   "attachments": {},
   "cell_type": "markdown",
   "metadata": {},
   "source": [
    "3. Imprimir los números pares en forma descendente hasta 2 que son menores o iguales a un número natural n ≥ 2 dado"
   ]
  },
  {
   "cell_type": "code",
   "execution_count": null,
   "metadata": {},
   "outputs": [],
   "source": [
    "n = int\n",
    "n= int(input(\"Ingrese un número natural mayor o igual a 2: \"))\n",
    "\n",
    "if n >= 2:\n",
    "    i = n if n % 2 == 0 else n - 1  \n",
    "    while i >= 2:\n",
    "        print(i)\n",
    "        i -= 2\n",
    "else:\n",
    "    print(\"El número ingresado es menor que 2.\")\n"
   ]
  },
  {
   "attachments": {},
   "cell_type": "markdown",
   "metadata": {},
   "source": [
    "4. En 2022 el país A tendrá una población de 25 millones de habitantes y el país B de 18,9 millones. Las tasas de crecimiento anual de la población serán de 2% y 3% respectivamente. Desarrollar un algoritmo para informar en que año la población del país B superará a la de A."
   ]
  },
  {
   "cell_type": "code",
   "execution_count": 13,
   "metadata": {},
   "outputs": [
    {
     "name": "stdout",
     "output_type": "stream",
     "text": [
      "La poblacion del pais B superara a la del pais A en el anio 2061\n"
     ]
    }
   ],
   "source": [
    "#Pobaciones de paises A y B en Millones\n",
    "PoblacionA = 25\n",
    "PoblacionB = 18.9\n",
    "#Tasa de interes Paises \n",
    "Tasa_paisA = 0.02\n",
    "Tasa_paisB = 0.03\n",
    "n = int\n",
    "n= int(input(\"Ingrese el anio en el que quiere comenzar  \"))\n",
    "Año_actual= n \n",
    "\n",
    "\n",
    "while PoblacionB <= PoblacionA:\n",
    "    \n",
    "    PoblacionA *= (1 + Tasa_paisA)\n",
    "    PoblacionB *= (1 + Tasa_paisB)\n",
    "\n",
    "    \n",
    "    Año_actual += 1\n",
    "    \n",
    "print(\"La poblacion del pais B superara a la del pais A en el año \"+str(Año_actual))\n"
   ]
  },
  {
   "attachments": {},
   "cell_type": "markdown",
   "metadata": {},
   "source": [
    "5. Imprimir el factorial de un número natural n dado."
   ]
  },
  {
   "cell_type": "code",
   "execution_count": null,
   "metadata": {},
   "outputs": [
    {
     "name": "stdout",
     "output_type": "stream",
     "text": [
      "120\n"
     ]
    }
   ],
   "source": [
    "n = int(input(\"Ingrese un número natural: \"))\n",
    "\n",
    "def factorial(n):\n",
    "    resultado = 1\n",
    "    i = 1\n",
    "    terminado = False\n",
    "    while not terminado:\n",
    "        resultado *= i\n",
    "        i += 1\n",
    "        if i > n:\n",
    "            terminado = True\n",
    "    return resultado\n",
    "\n",
    "print(factorial(n))"
   ]
  },
  {
   "attachments": {},
   "cell_type": "markdown",
   "metadata": {},
   "source": [
    "6. Implementar un algoritmo que permita adivinar un número dado de 1 a 100, preguntando en cada caso si el número es mayor, menor o igual."
   ]
  },
  {
   "cell_type": "code",
   "execution_count": null,
   "metadata": {},
   "outputs": [],
   "source": [
    "import random\n",
    "r =numero_a_adivinar = random.randint(1, 100)\n",
    "\n",
    "print(\"Adivina un numero entre el 1 a 100\")\n",
    "\n",
    "while True:\n",
    "    respuesta = input(\"¿Es el número \" + str(numero_a_adivinar) + \"? (mayor/menor/igual): \")\n",
    "    \n",
    "    if respuesta == \"mayor\":\n",
    "        numero_a_adivinar = random.randint(numero_a_adivinar+1, 100) # El número a adivinar es mayor\n",
    "    elif respuesta == \"menor\":\n",
    "        numero_a_adivinar = random.randint(1, numero_a_adivinar-1) # El número a adivinar es menor\n",
    "    elif respuesta == \"igual\":\n",
    "        print(\"¡Ganaste! el numero es \"+ str(numero_a_adivinar))\n",
    "        break # Salir del bucle mientras\n",
    "    else:\n",
    "        print(\"Respuesta inválida. Por favor, ingrese 'mayor', 'menor' o 'igual'\")\n"
   ]
  },
  {
   "attachments": {},
   "cell_type": "markdown",
   "metadata": {},
   "source": [
    "7. Implementar un programa que ingrese un número de 2 a 50 y muestre sus divisores."
   ]
  },
  {
   "cell_type": "code",
   "execution_count": null,
   "metadata": {},
   "outputs": [],
   "source": [
    "n = int(input(\"Ingrese un numero del 2 al 50: \"))\n",
    "i = 2\n",
    "print(\"Los divisores de\", n, \"son:\")\n",
    "while 2 <= n <= 50:\n",
    "    if n % i == 0:\n",
    "        print(i)\n",
    "    i += 1\n"
   ]
  },
  {
   "attachments": {},
   "cell_type": "markdown",
   "metadata": {},
   "source": [
    "8. Implementar el algoritmo que muestre los números primos del 1 al 100. nota: use funciones"
   ]
  },
  {
   "cell_type": "code",
   "execution_count": null,
   "metadata": {},
   "outputs": [],
   "source": [
    "def es_primo(numero: int) -> bool:\n",
    "    if numero < 2:\n",
    "        return False\n",
    "    i = 2\n",
    "    while i < numero:\n",
    "        if numero % i == 0:\n",
    "            return False\n",
    "        i += 1\n",
    "    return True\n",
    "\n",
    "def Lista_numeros_primos(n: int) -> list[int]:\n",
    "    numeros_primos = []\n",
    "    while n <= 100:\n",
    "        if es_primo(n):\n",
    "            numeros_primos.append(n)\n",
    "        n += 1 \n",
    "    return numeros_primos\n",
    "\n",
    "numero = 1\n",
    "while numero <= 100:\n",
    "    if es_primo(numero):\n",
    "        print(numero)\n",
    "    numero += 1"
   ]
  }
 ],
 "metadata": {
  "kernelspec": {
   "display_name": "Python 3",
   "language": "python",
   "name": "python3"
  },
  "language_info": {
   "codemirror_mode": {
    "name": "ipython",
    "version": 3
   },
   "file_extension": ".py",
   "mimetype": "text/x-python",
   "name": "python",
   "nbconvert_exporter": "python",
   "pygments_lexer": "ipython3",
   "version": "3.10.10"
  },
  "orig_nbformat": 4
 },
 "nbformat": 4,
 "nbformat_minor": 2
}
